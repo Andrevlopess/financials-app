{
 "cells": [
  {
   "cell_type": "code",
   "execution_count": null,
   "id": "4e02dcc5",
   "metadata": {},
   "outputs": [],
   "source": [
    "import random\n",
    "from datetime import datetime\n",
    "\n",
    "assets = ['IWIW11','MXRF11','BAYG11','VOEU11','MRLO4','XNAU11','KION4','YJTN11','IKXF11','YPXT3']\n",
    "\n",
    "\n",
    "def generate_file():\n",
    "\n",
    "    transactions = []\n",
    "    for _ in range(500):\n",
    "        random_data = {\n",
    "            'date': datetime.fromisoformat(f'{random.randint(2023,2025)}-{random.randint(1,12):02d}-{random.randint(1,28):02d}').strftime('%Y-%m-%d'),\n",
    "            'asset': random.choice(assets),\n",
    "            'amount': str(round(random.uniform(0, 50), 2))\n",
    "            # 'amount': str(round(random.uniform(-5000, 5000), 2))\n",
    "        }\n",
    "\n",
    "        transactions.append(random_data)\n",
    "\n",
    "    with open('transactions.csv', 'w') as f:\n",
    "        f.write('Date,Asset,Amount\\n')\n",
    "        f.write(\"\\n\".join([','.join(list(transaction.values())) for transaction in transactions]))\n",
    "\n",
    "\n",
    "generate_file()"
   ]
  },
  {
   "cell_type": "code",
   "execution_count": null,
   "id": "d7b5b361",
   "metadata": {},
   "outputs": [],
   "source": []
  },
  {
   "cell_type": "code",
   "execution_count": null,
   "id": "6d4d90be",
   "metadata": {},
   "outputs": [],
   "source": []
  }
 ],
 "metadata": {
  "kernelspec": {
   "display_name": "venv",
   "language": "python",
   "name": "python3"
  },
  "language_info": {
   "codemirror_mode": {
    "name": "ipython",
    "version": 3
   },
   "file_extension": ".py",
   "mimetype": "text/x-python",
   "name": "python",
   "nbconvert_exporter": "python",
   "pygments_lexer": "ipython3",
   "version": "3.13.3"
  }
 },
 "nbformat": 4,
 "nbformat_minor": 5
}
